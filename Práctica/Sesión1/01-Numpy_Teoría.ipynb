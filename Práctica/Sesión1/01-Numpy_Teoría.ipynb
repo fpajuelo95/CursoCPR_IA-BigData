{
 "cells": [
  {
   "cell_type": "markdown",
   "metadata": {
    "id": "z6Z5YIWBDsxK"
   },
   "source": [
    "# NumPy"
   ]
  },
  {
   "cell_type": "markdown",
   "metadata": {
    "id": "h_fD-nMEE1iI"
   },
   "source": [
    "---\n",
    "## Introducción"
   ]
  },
  {
   "cell_type": "markdown",
   "metadata": {
    "id": "lBYAFcgwE3Yi"
   },
   "source": [
    "NumPy es un módulo de Python. El nombre viene de **PY**thon **NUM**érico. Es una librería de código abierto muy utilizada para la generación y manejo de matrices multidimensionales. En su mayor parte está escrito en C para optimizar su velocidad de ejecución.\n",
    "\n",
    "Además, los objetos de Pandas (librería que veremos próximamente) dependen en gran medida de los objetos de NumPy ya que Pandas extiende a NumPy.\n",
    "\n",
    "Aquí os dejo la url de la [documentación oficial](https://numpy.org/doc/stable/) de NumPy."
   ]
  },
  {
   "cell_type": "code",
   "execution_count": 1,
   "metadata": {
    "id": "yoKVTkB-DYIE"
   },
   "outputs": [],
   "source": [
    "import numpy as np # np es el diminutivo por defecto que se suele ver en internet"
   ]
  },
  {
   "cell_type": "markdown",
   "metadata": {
    "id": "9pYvu5-MGDhF"
   },
   "source": [
    "---\n",
    "## Arrays"
   ]
  },
  {
   "cell_type": "markdown",
   "metadata": {
    "id": "3j-rfLx3GVQk"
   },
   "source": [
    "Con NumPy podemos crear arrays de todo tipo de dimensiones: 1D, 2D, 3D...\n",
    "Para ello, podremos utilizar los siguientes comandos:"
   ]
  },
  {
   "cell_type": "code",
   "execution_count": 2,
   "metadata": {
    "colab": {
     "base_uri": "https://localhost:8080/"
    },
    "executionInfo": {
     "elapsed": 249,
     "status": "ok",
     "timestamp": 1636468599916,
     "user": {
      "displayName": "Mikel Aingeru Jorge Soteras",
      "photoUrl": "https://lh3.googleusercontent.com/a/default-user=s64",
      "userId": "17327455162631325979"
     },
     "user_tz": -60
    },
    "id": "Soo9eaE3GUcJ",
    "outputId": "9427df38-ea78-4576-a770-681dc9598da0"
   },
   "outputs": [
    {
     "name": "stdout",
     "output_type": "stream",
     "text": [
      "[1 2 3]\n",
      "[[1 2 3]\n",
      " [4 5 6]\n",
      " [7 8 9]]\n",
      "[[1 2 3]\n",
      " [4 5 6]\n",
      " [7 8 9]]\n"
     ]
    }
   ],
   "source": [
    "# NumPy cuenta con la función \"array\" que crea su propia estructura de datos de array en función de los datos recibidos\n",
    "# 1D\n",
    "a = np.array([1,2,3])\n",
    "print(a)\n",
    "\n",
    "# 2D con listas de listas\n",
    "a = np.array([[1,2,3],[4,5,6],[7,8,9]])\n",
    "print(a)\n",
    "\n",
    "# 2D con listas de tuplas\n",
    "a = np.array([(1,2,3),(4,5,6),(7,8,9)])\n",
    "print(a)"
   ]
  },
  {
   "cell_type": "markdown",
   "metadata": {
    "id": "anDoV3zHOItN"
   },
   "source": [
    "---\n",
    "## Tipos de datos"
   ]
  },
  {
   "cell_type": "markdown",
   "metadata": {
    "id": "yVP3pes5PTgP"
   },
   "source": [
    "Con NumPy puedes decidir el tipo de datos de un array. Hecho muy importante ya que en función de esto dependerá la información que almacenemos y el espacio que ocupe en memoria:"
   ]
  },
  {
   "cell_type": "code",
   "execution_count": 7,
   "metadata": {
    "colab": {
     "base_uri": "https://localhost:8080/"
    },
    "executionInfo": {
     "elapsed": 265,
     "status": "ok",
     "timestamp": 1636471158114,
     "user": {
      "displayName": "Mikel Aingeru Jorge Soteras",
      "photoUrl": "https://lh3.googleusercontent.com/a/default-user=s64",
      "userId": "17327455162631325979"
     },
     "user_tz": -60
    },
    "id": "sV-88QTRPk1u",
    "outputId": "087f9c4e-c18d-4765-eaa2-5f5aa778f39b"
   },
   "outputs": [
    {
     "name": "stdout",
     "output_type": "stream",
     "text": [
      "[[1.       2.       3.       4.      ]\n",
      " [5.       6.       7.       8.777777]]\n",
      "<class 'numpy.float64'>\n",
      "[[1 2 3 4]\n",
      " [5 6 7 8]]\n",
      "<class 'numpy.int8'>\n",
      "[[  1   2   3   4]\n",
      " [  5   6   7 -24]]\n"
     ]
    }
   ],
   "source": [
    "array_float = np.array([[1,2,3,4],[5,6,7,8]], dtype=np.float64) # hay distintos tipos de float: 16, 32, 64\n",
    "print(array_float)\n",
    "print(type(array_float[0][0]))\n",
    "\n",
    "# Al igual que float, también hay distintos tipos de int (8, 16, 32, 64),\n",
    "array_int = np.array([[1,2,3,4],[5,6,7,8]], dtype=np.int8)\n",
    "print(array_int)\n",
    "print(type(array_int[0][0]))\n",
    "\n",
    "# Habrá que tener cuidado ya que cada tipo de dato tiene su límite numérico\n",
    "array_int = np.array([[1,2,3,4],[5,6,7,1000]], dtype=np.int8)\n",
    "print(array_int)"
   ]
  },
  {
   "cell_type": "markdown",
   "metadata": {
    "id": "Kv1iwpb1UwDB"
   },
   "source": [
    "---\n",
    "## Matrices predefinidas"
   ]
  },
  {
   "cell_type": "markdown",
   "metadata": {
    "id": "eUW0EaYFUyJC"
   },
   "source": [
    "Otra de las ventajas es que NumPy permite crear matrices vacías o rellenas con valores aleatorios de distintas formas"
   ]
  },
  {
   "cell_type": "code",
   "execution_count": 11,
   "metadata": {
    "colab": {
     "base_uri": "https://localhost:8080/"
    },
    "executionInfo": {
     "elapsed": 371,
     "status": "ok",
     "timestamp": 1636472292052,
     "user": {
      "displayName": "Mikel Aingeru Jorge Soteras",
      "photoUrl": "https://lh3.googleusercontent.com/a/default-user=s64",
      "userId": "17327455162631325979"
     },
     "user_tz": -60
    },
    "id": "RCK2JxdhVHLq",
    "outputId": "ab225a25-cd16-43e2-c9fc-435ddd5f8112"
   },
   "outputs": [
    {
     "name": "stdout",
     "output_type": "stream",
     "text": [
      "[[1. 1. 1. 1.]\n",
      " [1. 1. 1. 1.]\n",
      " [1. 1. 1. 1.]]\n",
      "[[0. 0. 0. 0. 0.]\n",
      " [0. 0. 0. 0. 0.]]\n",
      "[[0.91371176 0.12089828 0.93585652]\n",
      " [0.04108492 0.0562216  0.31157148]\n",
      " [0.04978817 0.28589503 0.80154902]]\n",
      "[[1. 1.]\n",
      " [1. 1.]]\n",
      "[[5 5 5]\n",
      " [5 5 5]]\n"
     ]
    }
   ],
   "source": [
    "# matriz rellena de unos\n",
    "unos = np.ones((3,4))\n",
    "print(unos)\n",
    "\n",
    "# matriz rellena de ceros\n",
    "ceros = np.zeros((2,5))\n",
    "print(ceros)\n",
    "\n",
    "# matriz rellena de números aleatorios (entre 0 y 1)\n",
    "aleatorios = np.random.random((3,3))\n",
    "print(aleatorios)\n",
    "\n",
    "# matriz vacía\n",
    "vacia = np.empty((2,2))\n",
    "print(vacia)\n",
    "\n",
    "# matriz con un mismo valor\n",
    "valor = np.full((2,3), 5)\n",
    "print(valor)"
   ]
  },
  {
   "cell_type": "markdown",
   "metadata": {
    "id": "0asleqEIWlEa"
   },
   "source": [
    "Si en lugar de crear valores de las formas anteriores preferimos crearlos en un intérvalo concreto podremos utilizar estas dos funciones:"
   ]
  },
  {
   "cell_type": "code",
   "execution_count": 9,
   "metadata": {
    "colab": {
     "base_uri": "https://localhost:8080/"
    },
    "executionInfo": {
     "elapsed": 262,
     "status": "ok",
     "timestamp": 1636472475599,
     "user": {
      "displayName": "Mikel Aingeru Jorge Soteras",
      "photoUrl": "https://lh3.googleusercontent.com/a/default-user=s64",
      "userId": "17327455162631325979"
     },
     "user_tz": -60
    },
    "id": "tDDABj5WWtj-",
    "outputId": "ab2677a2-5a56-42da-eb30-90109290658b"
   },
   "outputs": [
    {
     "name": "stdout",
     "output_type": "stream",
     "text": [
      "[ 0  5 10 15 20 25 30 35 40 45]\n",
      "[ 0.   2.5  5.   7.5 10. ]\n"
     ]
    }
   ],
   "source": [
    "# crea una matriz con valores especificados en función de un rango\n",
    "m1 = np.arange(0, 50, 5)\n",
    "print(m1)\n",
    "\n",
    "# crea matriz con valores entre dos datos y definiendo el número de elementos\n",
    "m2 = np.linspace(0, 10, 5)\n",
    "print(m2)"
   ]
  },
  {
   "cell_type": "markdown",
   "metadata": {
    "id": "pgOylyNNXPIJ"
   },
   "source": [
    "Por último, una matriz muy típica es la matriz \"identidad\". Si queremos generar este tipo de matrices tenemos dos formas:"
   ]
  },
  {
   "cell_type": "code",
   "execution_count": 10,
   "metadata": {
    "colab": {
     "base_uri": "https://localhost:8080/"
    },
    "executionInfo": {
     "elapsed": 304,
     "status": "ok",
     "timestamp": 1636472610171,
     "user": {
      "displayName": "Mikel Aingeru Jorge Soteras",
      "photoUrl": "https://lh3.googleusercontent.com/a/default-user=s64",
      "userId": "17327455162631325979"
     },
     "user_tz": -60
    },
    "id": "NpWq8kf8XUf5",
    "outputId": "de97ba4f-20f7-4e06-d276-99a63f23e807"
   },
   "outputs": [
    {
     "name": "stdout",
     "output_type": "stream",
     "text": [
      "[[1. 0. 0. 0.]\n",
      " [0. 1. 0. 0.]\n",
      " [0. 0. 1. 0.]\n",
      " [0. 0. 0. 1.]]\n",
      "[[1. 0. 0. 0.]\n",
      " [0. 1. 0. 0.]\n",
      " [0. 0. 1. 0.]\n",
      " [0. 0. 0. 1.]]\n"
     ]
    }
   ],
   "source": [
    "# genera matrices de identidad de cualquier dimensión\n",
    "id1 = np.eye(4,4)\n",
    "print(id1)\n",
    "\n",
    "# genera matrices de identidad cuadradas\n",
    "id2 = np.identity(4)\n",
    "print(id2)"
   ]
  },
  {
   "cell_type": "markdown",
   "metadata": {
    "id": "0sl803TOXy33"
   },
   "source": [
    "---\n",
    "## Funciones sobre matrices"
   ]
  },
  {
   "cell_type": "markdown",
   "metadata": {
    "id": "vgAEyGeKX2Oz"
   },
   "source": [
    "NumPy incluye una serie de funciones útiles a la hora de inspeccionar las matrices generadas:"
   ]
  },
  {
   "cell_type": "code",
   "execution_count": 12,
   "metadata": {
    "colab": {
     "base_uri": "https://localhost:8080/"
    },
    "executionInfo": {
     "elapsed": 227,
     "status": "ok",
     "timestamp": 1636473028884,
     "user": {
      "displayName": "Mikel Aingeru Jorge Soteras",
      "photoUrl": "https://lh3.googleusercontent.com/a/default-user=s64",
      "userId": "17327455162631325979"
     },
     "user_tz": -60
    },
    "id": "hJKhoW1RX8ER",
    "outputId": "96d0f737-f7f5-4780-f822-6382783962f9"
   },
   "outputs": [
    {
     "name": "stdout",
     "output_type": "stream",
     "text": [
      "[[1 2 3]\n",
      " [4 5 6]]\n",
      "[[[ 1.1  2.2  3.3]\n",
      "  [ 4.4  5.5  6.6]]\n",
      "\n",
      " [[ 7.7  8.8  9.9]\n",
      "  [10.1 11.2 12.3]]]\n",
      "Dimensiones A:  2\n",
      "Dimensiones B:  3\n",
      "Tipo A:  int32\n",
      "Tipo B:  float64\n",
      "Tamaño A:  6\n",
      "Forma A:  (2, 3)\n",
      "Tamaño B:  12\n",
      "Forma B:  (2, 2, 3)\n"
     ]
    }
   ],
   "source": [
    "a = np.array([[1,2,3],[4,5,6]])\n",
    "b = np.array([[[1.1,2.2,3.3],[4.4,5.5,6.6]],[[7.7,8.8,9.9],[10.1,11.2,12.3]]])\n",
    "\n",
    "print(a)\n",
    "print(b)\n",
    "# saber las dimensiones de un array\n",
    "print(\"Dimensiones A: \", a.ndim)\n",
    "print(\"Dimensiones B: \", b.ndim)\n",
    "\n",
    "# conocer el tipo de datos de un array\n",
    "print(\"Tipo A: \", a.dtype)\n",
    "print(\"Tipo B: \", b.dtype)\n",
    "\n",
    "# para conocer el tamaño y la forma de una matriz\n",
    "print(\"Tamaño A: \", a.size)\n",
    "print(\"Forma A: \", a.shape)\n",
    "print(\"Tamaño B: \", b.size)\n",
    "print(\"Forma B: \", b.shape)\n"
   ]
  },
  {
   "cell_type": "markdown",
   "metadata": {
    "id": "JiTKDz0VZUX4"
   },
   "source": [
    "También podemos cambiar el tamaño y la forma de las matrices:"
   ]
  },
  {
   "cell_type": "code",
   "execution_count": null,
   "metadata": {
    "colab": {
     "base_uri": "https://localhost:8080/"
    },
    "executionInfo": {
     "elapsed": 293,
     "status": "ok",
     "timestamp": 1636473259046,
     "user": {
      "displayName": "Mikel Aingeru Jorge Soteras",
      "photoUrl": "https://lh3.googleusercontent.com/a/default-user=s64",
      "userId": "17327455162631325979"
     },
     "user_tz": -60
    },
    "id": "n4YtaTwaZXfz",
    "outputId": "dd53e2e3-f935-4a07-904e-f2ad13ed2035"
   },
   "outputs": [
    {
     "name": "stdout",
     "output_type": "stream",
     "text": [
      "a:  [[1 2 3]\n",
      " [4 5 6]]\n",
      "c:  [[1 2]\n",
      " [3 4]\n",
      " [5 6]]\n"
     ]
    }
   ],
   "source": [
    "# aprovechamos el elemento \"a\" creado en el bloque anterior\n",
    "print(\"a: \", a)\n",
    "\n",
    "# modificamos su forma para que en lugar de 2 filas y 3 columnas sea 3 filas y 2 columnas:\n",
    "c = a.reshape(3,2) # Esto no ha almacenado el cambio sobre \"a\" sino sobre \"c\"\n",
    "print(\"c: \", c)"
   ]
  },
  {
   "cell_type": "markdown",
   "metadata": {
    "id": "vHDlVM2xaZI6"
   },
   "source": [
    "---\n",
    "## Trabajo sobre posiciones de una matriz"
   ]
  },
  {
   "cell_type": "markdown",
   "metadata": {
    "id": "4p5nbx06acHp"
   },
   "source": [
    "NumPy también ofrece unas maneras más sencillas para trabajar sobre posiciones concretas de una matriz:"
   ]
  },
  {
   "cell_type": "code",
   "execution_count": null,
   "metadata": {
    "colab": {
     "base_uri": "https://localhost:8080/"
    },
    "executionInfo": {
     "elapsed": 239,
     "status": "ok",
     "timestamp": 1636473587935,
     "user": {
      "displayName": "Mikel Aingeru Jorge Soteras",
      "photoUrl": "https://lh3.googleusercontent.com/a/default-user=s64",
      "userId": "17327455162631325979"
     },
     "user_tz": -60
    },
    "id": "UeNzRg_VaiBC",
    "outputId": "a4bf03f3-2e60-48ce-89a1-4d94198bd9d9"
   },
   "outputs": [
    {
     "name": "stdout",
     "output_type": "stream",
     "text": [
      "[[0.5321589  0.69771584 0.98954261 0.24354292 0.97875716]\n",
      " [0.38848457 0.49000974 0.62469785 0.90849755 0.69364604]]\n",
      "0.9895426137153429\n",
      "[0.97875716 0.69364604]\n",
      "[[0.5321589  0.69771584]\n",
      " [0.38848457 0.49000974]]\n"
     ]
    }
   ],
   "source": [
    "matriz = np.random.random((2,5))\n",
    "print(matriz)\n",
    "\n",
    "# si quiero obtener el elemento de una posición concreta\n",
    "print(matriz[0,2])\n",
    "\n",
    "# si quiero obtener todas las filas de una columna concreta\n",
    "print(matriz[:,4])\n",
    "\n",
    "# si quiero obtener una submatriz de la matriz\n",
    "print(matriz[:,0:2])"
   ]
  },
  {
   "cell_type": "markdown",
   "metadata": {
    "id": "dCjmQdKNhhCO"
   },
   "source": [
    "---\n",
    "## Modificación de arrays"
   ]
  },
  {
   "cell_type": "markdown",
   "metadata": {
    "id": "RUbQxac9hjPk"
   },
   "source": [
    "Si quisieramos modificar matrices creadas anteriormente podríamos tanto insertar como eliminar partes de las mismas:"
   ]
  },
  {
   "cell_type": "code",
   "execution_count": null,
   "metadata": {
    "colab": {
     "base_uri": "https://localhost:8080/"
    },
    "executionInfo": {
     "elapsed": 317,
     "status": "ok",
     "timestamp": 1636475631174,
     "user": {
      "displayName": "Mikel Aingeru Jorge Soteras",
      "photoUrl": "https://lh3.googleusercontent.com/a/default-user=s64",
      "userId": "17327455162631325979"
     },
     "user_tz": -60
    },
    "id": "_tsnO_QkhoPy",
    "outputId": "32c4496a-6672-401a-bc65-ca99bdbec3a6"
   },
   "outputs": [
    {
     "name": "stdout",
     "output_type": "stream",
     "text": [
      "[[1 2 8 0 7]]\n",
      "[ 1  2  8  0  7 10 10 10]\n",
      "[ 1  2  8  0  7 10 10]\n",
      "[1 2 8 0 7]\n"
     ]
    }
   ],
   "source": [
    "matriz = np.random.randint(10, size=(1,5))\n",
    "print(matriz)\n",
    "\n",
    "# Añadimos tres nuevos elementos\n",
    "matriz = np.append(matriz, [10, 10, 10])\n",
    "print(matriz)\n",
    "\n",
    "# Eliminamos el último elemento\n",
    "matriz = np.delete(matriz, 7)\n",
    "print(matriz)\n",
    "\n",
    "# Eliminamos los dos últimos elementos\n",
    "matriz = np.delete(matriz, [5,6])\n",
    "print(matriz)"
   ]
  }
 ],
 "metadata": {
  "colab": {
   "authorship_tag": "ABX9TyMmdJCjYGtp7wBqRcYMM8yq",
   "collapsed_sections": [],
   "name": "01-Numpy_Teoría.ipynb",
   "provenance": []
  },
  "kernelspec": {
   "display_name": "Python 3 (ipykernel)",
   "language": "python",
   "name": "python3"
  },
  "language_info": {
   "codemirror_mode": {
    "name": "ipython",
    "version": 3
   },
   "file_extension": ".py",
   "mimetype": "text/x-python",
   "name": "python",
   "nbconvert_exporter": "python",
   "pygments_lexer": "ipython3",
   "version": "3.9.13"
  }
 },
 "nbformat": 4,
 "nbformat_minor": 1
}
