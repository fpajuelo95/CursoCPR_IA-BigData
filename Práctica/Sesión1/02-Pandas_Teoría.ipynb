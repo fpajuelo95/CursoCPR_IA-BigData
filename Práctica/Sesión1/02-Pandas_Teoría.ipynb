{
 "cells": [
  {
   "cell_type": "markdown",
   "metadata": {
    "id": "1_tVFSfBNciO"
   },
   "source": [
    "# Pandas"
   ]
  },
  {
   "cell_type": "markdown",
   "metadata": {
    "id": "fX6liDT7NiXs"
   },
   "source": [
    "---\n",
    "## Introducción"
   ]
  },
  {
   "cell_type": "markdown",
   "metadata": {
    "id": "2OxvTcIMNspd"
   },
   "source": [
    "Pandas es un popular paquete de datos de Python porque ofrece unas estructuras de datos potentes y flexibles que facilitan la manipulación y análisis de datos de alto rendimiento. Entre las estructuras más utilizadas se encuentra el DataFrame. Es de código abierto y su nombre viene de **PAN**el **DA**ta.\n",
    "\n",
    "Usando esta librería podemos lograr los 5 pasos típicos en el procesamiento y análisis de datos:\n",
    "\n",
    "*   Cargar datos\n",
    "*   Modelar\n",
    "*   Analizar\n",
    "*   Manipular\n",
    "*   Preparar\n",
    "\n",
    "En resumen, las principales características de pandas son las siguientes:\n",
    "\n",
    "*   Objeto DataFrame rápido y eficiente con indexación\n",
    "*   Herramientas para cargar datos en objetos en memoria desde archivos de distintos tipos\n",
    "*   Alineación de datos y manejo de datos faltantes\n",
    "*   Remodelación de fechas\n",
    "*   Etiquetado, corte, indexación y subconjuntos de datos\n",
    "*   Columnas eliminables o insertables\n",
    "*   Agrupación de datos para agregaciones y transformaciones\n",
    "*   Alto rendimiento en fusión y union de datos"
   ]
  },
  {
   "cell_type": "markdown",
   "metadata": {
    "id": "bKP6w4thn5NB"
   },
   "source": [
    "Además, como en NumPy, si queremos utilizar Pandas en nuestro proyecto tendremos que importarlo después de haberlo instalado. Por último, como Pandas extiende la funcionalidad de NumPy, también tendremos que imporar este último:"
   ]
  },
  {
   "cell_type": "code",
   "execution_count": 2,
   "metadata": {
    "executionInfo": {
     "elapsed": 7,
     "status": "ok",
     "timestamp": 1636727245298,
     "user": {
      "displayName": "Mikel Aingeru Jorge Soteras",
      "photoUrl": "https://lh3.googleusercontent.com/a/default-user=s64",
      "userId": "17327455162631325979"
     },
     "user_tz": -60
    },
    "id": "VEKF4-2Cn_T6"
   },
   "outputs": [],
   "source": [
    "import numpy as np\n",
    "# pd es el acrónimo que se utiliza para pandas normalmente\n",
    "import pandas as pd"
   ]
  },
  {
   "cell_type": "markdown",
   "metadata": {
    "id": "ujXOuC-UjLB6"
   },
   "source": [
    "---\n",
    "## Pandas vs NumPy"
   ]
  },
  {
   "cell_type": "markdown",
   "metadata": {
    "id": "_793pOXEjNXc"
   },
   "source": [
    "Tal y como vimos con NumPy, los datos se almacenan en estructuras muy parecidas a las matrices, solo que optimizadas por NumPy.\n",
    "\n",
    "Pandas por su parte **extiende la funcionalidad de NumPy** añadiendo ciertas funcionalidades. Entre ellas están estos dos ejemplos:\n",
    "\n",
    "*   **Series:** son matrices de una dimensión basadas en NumPy que, además de contener los datos de la estructura, tiene un índice para las columnas directamente asignado por Pandas. Estos índices son modificables. Por último, las Series de Pandas tienen el mismo tipo de datos en todas sus posiciones.\n",
    "\n",
    "*   **DataFrames:** son matrices de dos dimensiones que cuentan con índices tanto en las columnas como en las filas, ambas modificables por el programador. Además, en este caso, no todos los datos del dataframe tienen porqué ser del mismo tipo sino que pueden variar en función de cada columna."
   ]
  },
  {
   "cell_type": "markdown",
   "metadata": {
    "id": "le9I7JuFr_w-"
   },
   "source": [
    "---\n",
    "## Series"
   ]
  },
  {
   "cell_type": "markdown",
   "metadata": {
    "id": "T_H1q84MsCVP"
   },
   "source": [
    "Tal y como hemos mencionado, las Series son la versión de Pandas de los arrays unidimensionales de NumPy. Estas tendrán un único índice y son muy utilizadas en caso de convertir un Diccionario de Python a una estructura de datos de Pandas:"
   ]
  },
  {
   "cell_type": "code",
   "execution_count": 3,
   "metadata": {
    "colab": {
     "base_uri": "https://localhost:8080/"
    },
    "executionInfo": {
     "elapsed": 246,
     "status": "ok",
     "timestamp": 1636629341170,
     "user": {
      "displayName": "Mikel Aingeru Jorge Soteras",
      "photoUrl": "https://lh3.googleusercontent.com/a/default-user=s64",
      "userId": "17327455162631325979"
     },
     "user_tz": -60
    },
    "id": "2P00P_iasgLk",
    "outputId": "4d46f6b7-8acf-4966-cd8a-cfc3703c0fba"
   },
   "outputs": [
    {
     "name": "stdout",
     "output_type": "stream",
     "text": [
      "Series: \n",
      "Nombre         Mikel\n",
      "DNI       12345678-A\n",
      "Empleo      Profesor\n",
      "dtype: object\n",
      "\n",
      "Utilizando la clave del diccionario como índice:  Mikel\n",
      "Utilizando un número como índice:  Profesor\n"
     ]
    }
   ],
   "source": [
    "series = pd.Series({\n",
    "    \"Nombre\": \"Mikel\",\n",
    "    \"DNI\": \"12345678-A\",\n",
    "    \"Empleo\": \"Profesor\"\n",
    "})\n",
    "print(\"Series: \")\n",
    "print(series)\n",
    "print()\n",
    "\n",
    "# En este caso, el índice puede ser numérico (0,1,2...) o utilizar las claves del diccionario\n",
    "print(\"Utilizando la clave del diccionario como índice: \", series[\"Nombre\"])\n",
    "print(\"Utilizando un número como índice: \", series[2])"
   ]
  },
  {
   "cell_type": "markdown",
   "metadata": {
    "id": "U2CvaVsShFjF"
   },
   "source": [
    "---\n",
    "## DataFrame"
   ]
  },
  {
   "cell_type": "markdown",
   "metadata": {
    "id": "M6W1HN_SibDR"
   },
   "source": [
    "Los DataFrames son las estructuras de datos más utilizadas en machine learning con Python. Esto es porque:\n",
    "\n",
    "*   Son estructuras de datos etiquetados bidimensionales\n",
    "*   Constan de tres componentes: los datos, el índice (por filas) y las columnas (sus nombres)\n",
    "*   Puedes especificar los nombres del índice y las columnas\n",
    "\n",
    "Aquí os dejo un ejemplo sencillo de DataFrame partiendo de un array de NumPy:\n"
   ]
  },
  {
   "cell_type": "code",
   "execution_count": 4,
   "metadata": {
    "colab": {
     "base_uri": "https://localhost:8080/"
    },
    "executionInfo": {
     "elapsed": 233,
     "status": "ok",
     "timestamp": 1636628518086,
     "user": {
      "displayName": "Mikel Aingeru Jorge Soteras",
      "photoUrl": "https://lh3.googleusercontent.com/a/default-user=s64",
      "userId": "17327455162631325979"
     },
     "user_tz": -60
    },
    "id": "s0cz7qM4oxs5",
    "outputId": "3b115abc-e30a-472a-d706-cddc0a7457ca"
   },
   "outputs": [
    {
     "name": "stdout",
     "output_type": "stream",
     "text": [
      "Numpy data: \n",
      "[['' 'Nombre' 'Edad']\n",
      " ['F1' 'Mikel' '45']\n",
      " ['F2' 'Aitor' '15']]\n",
      "\n",
      "Pandas DataFrame: \n",
      "   Nombre Edad\n",
      "F1  Mikel   45\n",
      "F2  Aitor   15\n"
     ]
    }
   ],
   "source": [
    "# En este caso creamos un DataFrame en base a un array de NumPy\n",
    "data = np.array([['', 'Nombre', 'Edad'], ['F1', 'Mikel', 45], ['F2', 'Aitor', '15']])\n",
    "print(\"Numpy data: \")\n",
    "print(data)\n",
    "print()\n",
    "print(\"Pandas DataFrame: \")\n",
    "print(pd.DataFrame(data=data[1:, 1:], index = data[1:, 0], columns = data[0, 1:]))"
   ]
  },
  {
   "cell_type": "markdown",
   "metadata": {
    "id": "oSRr0mkxrHV9"
   },
   "source": [
    "Por otro lado, también podemos crear DataFrames directamente desde una matriz de NumPy sin indicar ni índice ni columnas en Pandas. Fijaos en que por defecto establece un índice y columnas numéricos empezando en 0:"
   ]
  },
  {
   "cell_type": "code",
   "execution_count": 5,
   "metadata": {
    "colab": {
     "base_uri": "https://localhost:8080/"
    },
    "executionInfo": {
     "elapsed": 250,
     "status": "ok",
     "timestamp": 1636628847569,
     "user": {
      "displayName": "Mikel Aingeru Jorge Soteras",
      "photoUrl": "https://lh3.googleusercontent.com/a/default-user=s64",
      "userId": "17327455162631325979"
     },
     "user_tz": -60
    },
    "id": "lVir96J2rLM7",
    "outputId": "089c1a2e-ea11-4901-ea3c-c56c12bfb29e"
   },
   "outputs": [
    {
     "name": "stdout",
     "output_type": "stream",
     "text": [
      "DataFrame sin índice ni columnas definidas por el programador: \n",
      "   0  1  2\n",
      "0  1  2  3\n",
      "1  4  5  6\n",
      "2  7  8  9\n"
     ]
    }
   ],
   "source": [
    "df = pd.DataFrame(np.array([[1,2,3], [4,5,6], [7,8,9]]))\n",
    "print(\"DataFrame sin índice ni columnas definidas por el programador: \")\n",
    "print(df)"
   ]
  },
  {
   "cell_type": "markdown",
   "metadata": {
    "id": "zFwRkQrftzk0"
   },
   "source": [
    "---\n",
    "## Explorando un DataFrame"
   ]
  },
  {
   "cell_type": "markdown",
   "metadata": {
    "id": "ggrNCm9Zt2v0"
   },
   "source": [
    "Aquí os dejo unas funciones básicas para obtener información básica de un DataFrame:"
   ]
  },
  {
   "cell_type": "code",
   "execution_count": 6,
   "metadata": {
    "colab": {
     "base_uri": "https://localhost:8080/"
    },
    "executionInfo": {
     "elapsed": 357,
     "status": "ok",
     "timestamp": 1636711320489,
     "user": {
      "displayName": "Mikel Aingeru Jorge Soteras",
      "photoUrl": "https://lh3.googleusercontent.com/a/default-user=s64",
      "userId": "17327455162631325979"
     },
     "user_tz": -60
    },
    "id": "u7D1gL5ZuErP",
    "outputId": "5f896aca-7e08-4cf5-8d33-3ef69e60dd96"
   },
   "outputs": [
    {
     "name": "stdout",
     "output_type": "stream",
     "text": [
      "       Nombre Edad      Empleo\n",
      "Fila-1  Mikel   45    Profesor\n",
      "Fila-2  Aitor   15  Estudiante\n",
      "Fila-3   Erik   27   Diseñador\n",
      "\n",
      "Forma del DataFrame:  (3, 3)\n",
      "Índice del DataFrame:  Index(['Fila-1', 'Fila-2', 'Fila-3'], dtype='object')\n",
      "Filas del DataFrame:  3\n"
     ]
    }
   ],
   "source": [
    "# Empezamos creando un DataFrame al igual que antes\n",
    "data = np.array([['', 'Nombre', 'Edad', 'Empleo'], ['Fila-1', 'Mikel', 45, 'Profesor'], ['Fila-2', 'Aitor', '15', 'Estudiante'], ['Fila-3', 'Erik', '27', 'Diseñador']])\n",
    "df = pd.DataFrame(data=data[1:, 1:], index = data[1:, 0], columns = data[0, 1:])\n",
    "print(df)\n",
    "print()\n",
    "\n",
    "# Para conocer la forma del DataFrame\n",
    "print(\"Forma del DataFrame: \", df.shape)\n",
    "\n",
    "# Para ver el índice\n",
    "print(\"Índice del DataFrame: \", df.index)\n",
    "\n",
    "# Para saber cuántas filas tiene\n",
    "print(\"Filas del DataFrame: \", len(df.index))"
   ]
  },
  {
   "cell_type": "markdown",
   "metadata": {
    "id": "J_dWS-mpvFC5"
   },
   "source": [
    "Por otro lado, también contaremos con instrucciones que describen las estadísticas básicas de un DataFrame:"
   ]
  },
  {
   "cell_type": "code",
   "execution_count": null,
   "metadata": {
    "colab": {
     "base_uri": "https://localhost:8080/"
    },
    "executionInfo": {
     "elapsed": 473,
     "status": "ok",
     "timestamp": 1636711323190,
     "user": {
      "displayName": "Mikel Aingeru Jorge Soteras",
      "photoUrl": "https://lh3.googleusercontent.com/a/default-user=s64",
      "userId": "17327455162631325979"
     },
     "user_tz": -60
    },
    "id": "LWPTuA5fvK_F",
    "outputId": "88516310-fd69-46fb-bf27-68c40bd8971f"
   },
   "outputs": [
    {
     "name": "stdout",
     "output_type": "stream",
     "text": [
      "Primer ejemplo sobre el DataFrame creado anteriormente:\n",
      "       Nombre Edad     Empleo\n",
      "count       3    3          3\n",
      "unique      3    3          3\n",
      "top      Erik   27  Diseñador\n",
      "freq        1    1          1\n",
      "\n",
      "DataFrame con datos aleatorios: \n",
      "   0  1  2  3  4\n",
      "0  5  9  8  8  3\n",
      "1  7  9  5  8  8\n",
      "2  1  3  8  6  2\n",
      "3  6  7  1  1  1\n",
      "4  5  5  8  4  9\n",
      "5  2  5  0  5  6\n",
      "6  3  9  8  5  0\n",
      "7  0  1  0  6  4\n",
      "8  7  1  7  3  6\n",
      "9  8  7  7  0  6\n",
      "\n",
      "Aquí un segundo ejemplo de las estadísticas con un caso numérico:\n",
      "              0          1          2          3          4\n",
      "count  10.00000  10.000000  10.000000  10.000000  10.000000\n",
      "mean    4.40000   5.600000   5.200000   4.600000   4.500000\n",
      "std     2.75681   3.134042   3.489667   2.674987   2.990726\n",
      "min     0.00000   1.000000   0.000000   0.000000   0.000000\n",
      "25%     2.25000   3.500000   2.000000   3.250000   2.250000\n",
      "50%     5.00000   6.000000   7.000000   5.000000   5.000000\n",
      "75%     6.75000   8.500000   8.000000   6.000000   6.000000\n",
      "max     8.00000   9.000000   8.000000   8.000000   9.000000\n",
      "\n",
      "Media por columnas:\n",
      "0    4.4\n",
      "1    5.6\n",
      "2    5.2\n",
      "3    4.6\n",
      "4    4.5\n",
      "dtype: float64\n"
     ]
    }
   ],
   "source": [
    "# Estadísticas básicas\n",
    "print(\"Primer ejemplo sobre el DataFrame creado anteriormente:\")\n",
    "print(df.describe())\n",
    "print()\n",
    "\n",
    "df_aleatorio = pd.DataFrame(np.random.randint(10, size = (10,5)))\n",
    "print(\"DataFrame con datos aleatorios: \")\n",
    "print(df_aleatorio)\n",
    "print()\n",
    "print(\"Aquí un segundo ejemplo de las estadísticas con un caso numérico:\")\n",
    "print(df_aleatorio.describe())\n",
    "print()\n",
    "\n",
    "# La media por columnas\n",
    "print(\"Media por columnas:\")\n",
    "print(df_aleatorio.mean())"
   ]
  },
  {
   "cell_type": "markdown",
   "metadata": {
    "id": "ta840UVvWO6Q"
   },
   "source": [
    "---\n",
    "## DataFrame - Selección"
   ]
  },
  {
   "cell_type": "markdown",
   "metadata": {
    "id": "5WCu2mxpWUrz"
   },
   "source": [
    "En un DataFrame siempre podemos seleccionar trabajar con el DataFrame entero o seleccionar unas partes del mismo para trabajar, lo que nos generará un nuevo DataFrame solo con esas filas o columnas:"
   ]
  },
  {
   "cell_type": "code",
   "execution_count": 7,
   "metadata": {
    "colab": {
     "base_uri": "https://localhost:8080/"
    },
    "executionInfo": {
     "elapsed": 329,
     "status": "ok",
     "timestamp": 1636711589634,
     "user": {
      "displayName": "Mikel Aingeru Jorge Soteras",
      "photoUrl": "https://lh3.googleusercontent.com/a/default-user=s64",
      "userId": "17327455162631325979"
     },
     "user_tz": -60
    },
    "id": "_5h8C_3vWbyJ",
    "outputId": "fe2fea6e-d94f-4b85-a9e3-e00128c83e9e"
   },
   "outputs": [
    {
     "name": "stdout",
     "output_type": "stream",
     "text": [
      "DataFrame entero: \n",
      "       Nombre Edad      Empleo\n",
      "Fila-1  Mikel   45    Profesor\n",
      "Fila-2  Aitor   15  Estudiante\n",
      "Fila-3   Erik   27   Diseñador\n",
      "\n",
      "La primera columna del DataFrame:\n",
      "Fila-1    Mikel\n",
      "Fila-2    Aitor\n",
      "Fila-3     Erik\n",
      "Name: Nombre, dtype: object\n",
      "\n",
      "Columnas Nombre y Empleo:\n",
      "       Nombre      Empleo\n",
      "Fila-1  Mikel    Profesor\n",
      "Fila-2  Aitor  Estudiante\n",
      "Fila-3   Erik   Diseñador\n",
      "Valor de una posición concreta:\n",
      "Profesor\n",
      "\n",
      "Valores de una fila completa:\n",
      "Nombre       Mikel\n",
      "Edad            45\n",
      "Empleo    Profesor\n",
      "Name: Fila-1, dtype: object\n",
      "\n"
     ]
    }
   ],
   "source": [
    "print(\"DataFrame entero: \")\n",
    "print(df)\n",
    "print()\n",
    "\n",
    "# Podemos seleccionar únicamente una columna\n",
    "print(\"La primera columna del DataFrame:\")\n",
    "print(df[\"Nombre\"])\n",
    "# También podríamos mostrar la primera columna del df_aleatorio con la siguiente instrucción\n",
    "#     print(df_aleatorio[0])\n",
    "print()\n",
    "\n",
    "# También podemos seleccionar subconjuntos de columnas\n",
    "print(\"Columnas Nombre y Empleo:\")\n",
    "print(df[[\"Nombre\", \"Empleo\"]])\n",
    "#     print(df_aleatorio[[0,1]])\n",
    "\n",
    "# Para seleccionar el valor de una posición concreta utilizaremos lo siguiente\n",
    "print(\"Valor de una posición concreta:\")\n",
    "print(df.iloc[0][2]) # CUIDADO, este acceso es únicamente por números de índices\n",
    "print()\n",
    "\n",
    "# Si queremos obtener el valor de una fila completa\n",
    "print(\"Valores de una fila completa:\")\n",
    "print(df.loc[\"Fila-1\"]) # Igual que df.iloc[0,:]\n",
    "print()"
   ]
  },
  {
   "cell_type": "markdown",
   "metadata": {
    "id": "y6Gi47AmngjR"
   },
   "source": [
    "---\n",
    "## Importar datos"
   ]
  },
  {
   "cell_type": "markdown",
   "metadata": {
    "id": "vASe-p4Inj9v"
   },
   "source": [
    "Normalmente, cuando trabajamos con datos orientados al Machine Learning, hay varias formas de cargarlos:\n",
    "\n",
    "*   Desde un archivo local\n",
    "*   Desde un archivo accesible por una URL\n",
    "*   Desde una base de datos\n",
    "\n",
    "El ejemplo más típico es el de trabajar con ficheros CSV ya que son los datos en bruto únicamente separados por comas. Aún así, también se permite la importación de ficheros de Excel, \".dat\", JSON..."
   ]
  },
  {
   "cell_type": "markdown",
   "metadata": {
    "id": "6qn5ryLOpXyY"
   },
   "source": [
    "Aquí mostraremos cómo importar datos desde un fichero CSV pero Pandas cuenta con funciones similares para otros tipos de ficheros o bases de datos:"
   ]
  },
  {
   "cell_type": "code",
   "execution_count": 19,
   "metadata": {
    "colab": {
     "base_uri": "https://localhost:8080/"
    },
    "executionInfo": {
     "elapsed": 1147,
     "status": "ok",
     "timestamp": 1636712852001,
     "user": {
      "displayName": "Mikel Aingeru Jorge Soteras",
      "photoUrl": "https://lh3.googleusercontent.com/a/default-user=s64",
      "userId": "17327455162631325979"
     },
     "user_tz": -60
    },
    "id": "1hWwvKWipvN9",
    "outputId": "75d5dba7-afaa-4431-fc12-7816dcd30015"
   },
   "outputs": [
    {
     "name": "stdout",
     "output_type": "stream",
     "text": [
      "        userId  movieId  rating   timestamp\n",
      "0            1        1     4.0   964982703\n",
      "1            1        3     4.0   964981247\n",
      "2            1        6     4.0   964982224\n",
      "3            1       47     5.0   964983815\n",
      "4            1       50     5.0   964982931\n",
      "...        ...      ...     ...         ...\n",
      "100831     610   166534     4.0  1493848402\n",
      "100832     610   168248     5.0  1493850091\n",
      "100833     610   168250     5.0  1494273047\n",
      "100834     610   168252     5.0  1493846352\n",
      "100835     610   170875     3.0  1493846415\n",
      "\n",
      "[100836 rows x 4 columns]\n",
      "0           1\n",
      "1           1\n",
      "2           1\n",
      "3           1\n",
      "4           1\n",
      "         ... \n",
      "100831    610\n",
      "100832    610\n",
      "100833    610\n",
      "100834    610\n",
      "100835    610\n",
      "Name: userId, Length: 100836, dtype: int64\n"
     ]
    }
   ],
   "source": [
    "# Cuidado con las rutas, esta es la mia (relativa desde donde está el Notebook)\n",
    "df = pd.read_csv(\"ratings.csv\")\n",
    "print(df)\n",
    "userId=df[\"userId\"]\n",
    "print(userId)"
   ]
  },
  {
   "cell_type": "markdown",
   "metadata": {
    "id": "kHTKAWLDp8fX"
   },
   "source": [
    "---\n",
    "## Exportar datos"
   ]
  },
  {
   "cell_type": "markdown",
   "metadata": {
    "id": "GwKyBa3vp-Dh"
   },
   "source": [
    "Al igual que Pandas nos permite importar datos desde ficheros o bases de datos, también podremos exportar datos a ficheros o bases de datos.\n",
    "Aquí presento un ejemplo de exportación de datos a un nuevo fichero:"
   ]
  },
  {
   "cell_type": "code",
   "execution_count": 10,
   "metadata": {
    "id": "D3-BSBJzqHr_"
   },
   "outputs": [],
   "source": [
    "# Igual que antes, tendremos que tener cuidado con la ruta (relativa desde el Notebook)\n",
    "df.to_csv(\"exporta\")"
   ]
  },
  {
   "cell_type": "markdown",
   "metadata": {
    "id": "rHXCkRE2quS-"
   },
   "source": [
    "---\n",
    "## Limpieza de datos"
   ]
  },
  {
   "cell_type": "markdown",
   "metadata": {
    "id": "QjJmjJLkqyr2"
   },
   "source": [
    "Además de todo lo anterior, Pandas nos incluye una serie de funcionalidades a la hora de limpiar dos datos con los que vamos a trabajar:"
   ]
  },
  {
   "cell_type": "code",
   "execution_count": null,
   "metadata": {
    "colab": {
     "base_uri": "https://localhost:8080/"
    },
    "executionInfo": {
     "elapsed": 843,
     "status": "ok",
     "timestamp": 1636712831630,
     "user": {
      "displayName": "Mikel Aingeru Jorge Soteras",
      "photoUrl": "https://lh3.googleusercontent.com/a/default-user=s64",
      "userId": "17327455162631325979"
     },
     "user_tz": -60
    },
    "id": "KZMnpQSWq8MQ",
    "outputId": "fbaf2123-38be-4c52-91d5-a36e7ac9d176"
   },
   "outputs": [
    {
     "name": "stdout",
     "output_type": "stream",
     "text": [
      "Datos nulos en el DataFrame:\n",
      "           6      0    0.1    0.2    0.3  ...  0.586  0.587  0.588  0.589  0.590\n",
      "0      False  False  False  False  False  ...  False  False  False  False  False\n",
      "1      False  False  False  False  False  ...  False  False  False  False  False\n",
      "2      False  False  False  False  False  ...  False  False  False  False  False\n",
      "3      False  False  False  False  False  ...  False  False  False  False  False\n",
      "4      False  False  False  False  False  ...  False  False  False  False  False\n",
      "...      ...    ...    ...    ...    ...  ...    ...    ...    ...    ...    ...\n",
      "19994  False  False  False  False  False  ...  False  False  False  False  False\n",
      "19995  False  False  False  False  False  ...  False  False  False  False  False\n",
      "19996  False  False  False  False  False  ...  False  False  False  False  False\n",
      "19997  False  False  False  False  False  ...  False  False  False  False  False\n",
      "19998  False  False  False  False  False  ...  False  False  False  False  False\n",
      "\n",
      "[19999 rows x 785 columns]\n",
      "Para saber cuántos valores nulos tenemos por columnas:\n",
      "6        0\n",
      "0        0\n",
      "0.1      0\n",
      "0.2      0\n",
      "0.3      0\n",
      "        ..\n",
      "0.586    0\n",
      "0.587    0\n",
      "0.588    0\n",
      "0.589    0\n",
      "0.590    0\n",
      "Length: 785, dtype: int64\n",
      "Para eliminar las filas con valores nulos:\n",
      "       6  0  0.1  0.2  0.3  0.4  ...  0.585  0.586  0.587  0.588  0.589  0.590\n",
      "0      5  0    0    0    0    0  ...      0      0      0      0      0      0\n",
      "1      7  0    0    0    0    0  ...      0      0      0      0      0      0\n",
      "2      9  0    0    0    0    0  ...      0      0      0      0      0      0\n",
      "3      5  0    0    0    0    0  ...      0      0      0      0      0      0\n",
      "4      2  0    0    0    0    0  ...      0      0      0      0      0      0\n",
      "...   .. ..  ...  ...  ...  ...  ...    ...    ...    ...    ...    ...    ...\n",
      "19994  0  0    0    0    0    0  ...      0      0      0      0      0      0\n",
      "19995  1  0    0    0    0    0  ...      0      0      0      0      0      0\n",
      "19996  2  0    0    0    0    0  ...      0      0      0      0      0      0\n",
      "19997  9  0    0    0    0    0  ...      0      0      0      0      0      0\n",
      "19998  5  0    0    0    0    0  ...      0      0      0      0      0      0\n",
      "\n",
      "[19999 rows x 785 columns]\n",
      "Para eliminar las columnas con valores nulos:\n",
      "       6  0  0.1  0.2  0.3  0.4  ...  0.585  0.586  0.587  0.588  0.589  0.590\n",
      "0      5  0    0    0    0    0  ...      0      0      0      0      0      0\n",
      "1      7  0    0    0    0    0  ...      0      0      0      0      0      0\n",
      "2      9  0    0    0    0    0  ...      0      0      0      0      0      0\n",
      "3      5  0    0    0    0    0  ...      0      0      0      0      0      0\n",
      "4      2  0    0    0    0    0  ...      0      0      0      0      0      0\n",
      "...   .. ..  ...  ...  ...  ...  ...    ...    ...    ...    ...    ...    ...\n",
      "19994  0  0    0    0    0    0  ...      0      0      0      0      0      0\n",
      "19995  1  0    0    0    0    0  ...      0      0      0      0      0      0\n",
      "19996  2  0    0    0    0    0  ...      0      0      0      0      0      0\n",
      "19997  9  0    0    0    0    0  ...      0      0      0      0      0      0\n",
      "19998  5  0    0    0    0    0  ...      0      0      0      0      0      0\n",
      "\n",
      "[19999 rows x 785 columns]\n",
      "Sustituir valores nulos por un valor concreto:\n",
      "       6  0  0.1  0.2  0.3  0.4  ...  0.585  0.586  0.587  0.588  0.589  0.590\n",
      "0      5  0    0    0    0    0  ...      0      0      0      0      0      0\n",
      "1      7  0    0    0    0    0  ...      0      0      0      0      0      0\n",
      "2      9  0    0    0    0    0  ...      0      0      0      0      0      0\n",
      "3      5  0    0    0    0    0  ...      0      0      0      0      0      0\n",
      "4      2  0    0    0    0    0  ...      0      0      0      0      0      0\n",
      "...   .. ..  ...  ...  ...  ...  ...    ...    ...    ...    ...    ...    ...\n",
      "19994  0  0    0    0    0    0  ...      0      0      0      0      0      0\n",
      "19995  1  0    0    0    0    0  ...      0      0      0      0      0      0\n",
      "19996  2  0    0    0    0    0  ...      0      0      0      0      0      0\n",
      "19997  9  0    0    0    0    0  ...      0      0      0      0      0      0\n",
      "19998  5  0    0    0    0    0  ...      0      0      0      0      0      0\n",
      "\n",
      "[19999 rows x 785 columns]\n"
     ]
    }
   ],
   "source": [
    "# Verificación de datos nulos uno a uno (False si no es nulo y True si lo es)\n",
    "print(\"Datos nulos en el DataFrame:\")\n",
    "print(df.isnull())\n",
    "print(\"Para saber cuántos valores nulos tenemos por columnas:\")\n",
    "print(df.isnull().sum())\n",
    "\n",
    "# Eliminar filas con valores nulos\n",
    "print(\"Para eliminar las filas con valores nulos:\")\n",
    "print(df.dropna())\n",
    "\n",
    "# Eliminar columnas con datos nulos\n",
    "print(\"Para eliminar las columnas con valores nulos:\")\n",
    "print(df.dropna(axis = 1))\n",
    "\n",
    "# En caso de no querer eliminar podremos sustituir los valores nulos\n",
    "print(\"Sustituir valores nulos por un valor concreto:\")\n",
    "print(df.fillna(df.mean()))\n"
   ]
  }
 ],
 "metadata": {
  "colab": {
   "authorship_tag": "ABX9TyPYwxV7FR3simdl+thc90tM",
   "collapsed_sections": [],
   "name": "02-Pandas_Teoría.ipynb",
   "provenance": []
  },
  "kernelspec": {
   "display_name": "Python 3 (ipykernel)",
   "language": "python",
   "name": "python3"
  },
  "language_info": {
   "codemirror_mode": {
    "name": "ipython",
    "version": 3
   },
   "file_extension": ".py",
   "mimetype": "text/x-python",
   "name": "python",
   "nbconvert_exporter": "python",
   "pygments_lexer": "ipython3",
   "version": "3.9.13"
  }
 },
 "nbformat": 4,
 "nbformat_minor": 1
}
