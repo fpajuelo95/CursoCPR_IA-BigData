{
 "cells": [
  {
   "cell_type": "markdown",
   "id": "2097ac41",
   "metadata": {},
   "source": [
    "# Amazon Web Services"
   ]
  },
  {
   "cell_type": "markdown",
   "id": "76ed5bed",
   "metadata": {},
   "source": [
    "## S3"
   ]
  },
  {
   "cell_type": "markdown",
   "id": "1b1065a4",
   "metadata": {},
   "source": [
    "Creación de un bucket en S3"
   ]
  },
  {
   "cell_type": "code",
   "execution_count": 2,
   "id": "fe49a877",
   "metadata": {},
   "outputs": [],
   "source": [
    "import boto3"
   ]
  },
  {
   "cell_type": "code",
   "execution_count": null,
   "id": "e62a93a7",
   "metadata": {},
   "outputs": [],
   "source": [
    "# Opción 1 - resource\n",
    "s3r = boto3.resource('s3', region_name='us-east-1')\n",
    "bucket = s3r.Bucket('s3castelar-python-resource')\n",
    "bucket.create()\n"
   ]
  },
  {
   "cell_type": "markdown",
   "id": "84b46f09",
   "metadata": {},
   "source": [
    "Cargar archivo json en el bucket creado anteriormente"
   ]
  },
  {
   "cell_type": "code",
   "execution_count": null,
   "id": "bfe83d87",
   "metadata": {},
   "outputs": [],
   "source": [
    "ficheroUpload = \"datosPeliculas.json\"\n",
    "nombreBucket = \"s3castelar-python-resource\"\n",
    "\n",
    "\n",
    "# Opción 2 - cliente\n",
    "s3c = boto3.client('s3')\n",
    "\n",
    "# 2.1 mediante upload_file\n",
    "response = s3c.upload_file(ficheroUpload, nombreBucket, \"datosSubidosC1.json\")"
   ]
  },
  {
   "cell_type": "markdown",
   "id": "19dbdcd4",
   "metadata": {},
   "source": [
    "Buckets de un usuario"
   ]
  },
  {
   "cell_type": "code",
   "execution_count": 2,
   "id": "d01f4773",
   "metadata": {},
   "outputs": [
    {
     "name": "stdout",
     "output_type": "stream",
     "text": [
      "Buckets mediante el cliente:\n",
      "\ts3castelar-python-resource\n"
     ]
    }
   ],
   "source": [
    "print('Buckets mediante el cliente:')\n",
    "s3client = boto3.client('s3')\n",
    "response = s3client.list_buckets()\n",
    "for bucket in response['Buckets']:\n",
    "    print(f'\\t{bucket[\"Name\"]}')"
   ]
  },
  {
   "cell_type": "code",
   "execution_count": 4,
   "id": "0c8148eb",
   "metadata": {},
   "outputs": [
    {
     "data": {
      "text/plain": [
       "{'ResponseMetadata': {'RequestId': '4J0KBWF2F93G1QX3',\n",
       "  'HostId': 'LIaX1PtP1Yup6NebMhAryXwJxkWQqTjrYw4CMJ9zfD7qlXKRjNxPjkqH/itR+DTxvffzQT7W23w=',\n",
       "  'HTTPStatusCode': 200,\n",
       "  'HTTPHeaders': {'x-amz-id-2': 'LIaX1PtP1Yup6NebMhAryXwJxkWQqTjrYw4CMJ9zfD7qlXKRjNxPjkqH/itR+DTxvffzQT7W23w=',\n",
       "   'x-amz-request-id': '4J0KBWF2F93G1QX3',\n",
       "   'date': 'Wed, 05 Apr 2023 09:52:54 GMT',\n",
       "   'x-amz-server-side-encryption': 'AES256',\n",
       "   'etag': '\"212cbe310f4e00cb23aae95ba57d7907\"',\n",
       "   'server': 'AmazonS3',\n",
       "   'content-length': '0'},\n",
       "  'RetryAttempts': 0},\n",
       " 'ETag': '\"212cbe310f4e00cb23aae95ba57d7907\"',\n",
       " 'ServerSideEncryption': 'AES256'}"
      ]
     },
     "execution_count": 4,
     "metadata": {},
     "output_type": "execute_result"
    }
   ],
   "source": [
    "# Cliente: Ejemplo de como crear un objeto y añadirle contenido desde Python\n",
    "nombreBucket = \"s3castelar-python-resource\"\n",
    "s3client.put_object(Body=b'Ejemplo de datos binarios', Bucket=nombreBucket, Key=\"datosSubidosC3\")"
   ]
  },
  {
   "cell_type": "markdown",
   "id": "9fe6d265",
   "metadata": {},
   "source": [
    "Elementos de un bucket"
   ]
  },
  {
   "cell_type": "code",
   "execution_count": 5,
   "id": "4083e82b",
   "metadata": {},
   "outputs": [
    {
     "name": "stdout",
     "output_type": "stream",
     "text": [
      "datosSubidosC1.json\n",
      "datosSubidosC3\n"
     ]
    }
   ],
   "source": [
    "s3 = boto3.resource('s3', region_name='us-east-1')\n",
    "bucket = s3.Bucket(nombreBucket)\n",
    "for obj in bucket.objects.all():\n",
    "    print(obj.key)"
   ]
  },
  {
   "cell_type": "markdown",
   "id": "275d0ea8",
   "metadata": {},
   "source": [
    "## S3 Select"
   ]
  },
  {
   "cell_type": "markdown",
   "id": "9816d6b2",
   "metadata": {},
   "source": [
    "Subimos el archivo CSV donde después realizaremos la consulta"
   ]
  },
  {
   "cell_type": "code",
   "execution_count": 7,
   "id": "86f4b691",
   "metadata": {},
   "outputs": [],
   "source": [
    "s3c = boto3.client('s3')\n",
    "\n",
    "response = s3c.upload_file(\"TMDb_updated.csv\", nombreBucket, \"peliculas.csv\")"
   ]
  },
  {
   "cell_type": "markdown",
   "id": "b319f20e",
   "metadata": {},
   "source": [
    "Mediante S3Select ejecutaremos la consulta SELECT s.title, s.overview, s.vote_count, s.vote_average FROM s3object s WHERE cast(s.vote_count as int)> 10000 y almacenaremos el resultado en un nuevo CSV dentro del mismo bucket:"
   ]
  },
  {
   "cell_type": "code",
   "execution_count": 10,
   "id": "934a22cc",
   "metadata": {},
   "outputs": [
    {
     "data": {
      "text/plain": [
       "{'ResponseMetadata': {'RequestId': 'JWNRPJNM7HJM6N40',\n",
       "  'HostId': 'UkeNqEggCF0WU7uAxYWwks0IB3s1LcVIluOwRCV90Ow0Uwr1vkU7al5o40LVFabS6cLUZ4v63cI=',\n",
       "  'HTTPStatusCode': 200,\n",
       "  'HTTPHeaders': {'x-amz-id-2': 'UkeNqEggCF0WU7uAxYWwks0IB3s1LcVIluOwRCV90Ow0Uwr1vkU7al5o40LVFabS6cLUZ4v63cI=',\n",
       "   'x-amz-request-id': 'JWNRPJNM7HJM6N40',\n",
       "   'date': 'Wed, 05 Apr 2023 10:19:48 GMT',\n",
       "   'x-amz-server-side-encryption': 'AES256',\n",
       "   'etag': '\"0e46f2eef741ecda8647ca3b748b1432\"',\n",
       "   'server': 'AmazonS3',\n",
       "   'content-length': '0'},\n",
       "  'RetryAttempts': 0},\n",
       " 'ETag': '\"0e46f2eef741ecda8647ca3b748b1432\"',\n",
       " 'ServerSideEncryption': 'AES256'}"
      ]
     },
     "execution_count": 10,
     "metadata": {},
     "output_type": "execute_result"
    }
   ],
   "source": [
    "resp = s3c.select_object_content(\n",
    "    Bucket=nombreBucket,\n",
    "    Key='peliculas.csv',\n",
    "    ExpressionType='SQL',\n",
    "    Expression=\"SELECT s.title, s.overview, s.vote_count, s.vote_average FROM s3object s WHERE cast(s.vote_count as int)> 10000\",\n",
    "    InputSerialization={'CSV': {\"FileHeaderInfo\": \"USE\",\n",
    "                                'AllowQuotedRecordDelimiter': True},\n",
    "                        'CompressionType': 'NONE'},\n",
    "    OutputSerialization={'CSV': {}},\n",
    ")\n",
    "\n",
    "\n",
    "# 2.- Unimos los datos que vamos recibiendo en streaming\n",
    "registros = [\"title,overview,vote_count,vote_average\\n\"]\n",
    "for evento in resp['Payload']:\n",
    "    if 'Records' in evento:\n",
    "        registros.append(evento['Records']['Payload'].decode())\n",
    "\n",
    "# 3.- Generamos el contenido en un String\n",
    "file_str = ''.join(registros)\n",
    "\n",
    "# 4.- Creamos un nuevo objeto en S3\n",
    "s3c.put_object(Body=file_str, Bucket=nombreBucket,\n",
    "              Key=\"TMDb_filtered.csv\")"
   ]
  }
 ],
 "metadata": {
  "kernelspec": {
   "display_name": "Python 3 (ipykernel)",
   "language": "python",
   "name": "python3"
  },
  "language_info": {
   "codemirror_mode": {
    "name": "ipython",
    "version": 3
   },
   "file_extension": ".py",
   "mimetype": "text/x-python",
   "name": "python",
   "nbconvert_exporter": "python",
   "pygments_lexer": "ipython3",
   "version": "3.9.16"
  }
 },
 "nbformat": 4,
 "nbformat_minor": 5
}
